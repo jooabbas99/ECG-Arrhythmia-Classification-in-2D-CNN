{
 "cells": [
  {
   "cell_type": "code",
   "execution_count": 1,
   "metadata": {},
   "outputs": [],
   "source": [
    "\n",
    "from glob import glob\n",
    "import os\n",
    "import numpy as np\n",
    "import random\n"
   ]
  },
  {
   "cell_type": "code",
   "execution_count": 2,
   "metadata": {},
   "outputs": [],
   "source": [
    "dataset_root = 'MIT-BIH_AD/'\n",
    "output_dirs = ['NOR/', 'LBBB/', 'RBBB/', 'APC/', 'PVC/', 'PAB/', 'VEB/', 'VFE/']"
   ]
  },
  {
   "cell_type": "code",
   "execution_count": 3,
   "metadata": {},
   "outputs": [],
   "source": [
    "\n",
    "count = 0\n",
    "pathes_by_type = {}\n",
    "for type in output_dirs:\n",
    "    dir = os.path.join(dataset_root, type, '*')\n",
    "    paths = glob(dir)\n",
    "    pathes_by_type[type] = paths\n",
    "    count += len(paths)"
   ]
  },
  {
   "cell_type": "code",
   "execution_count": 4,
   "metadata": {},
   "outputs": [
    {
     "data": {
      "text/plain": [
       "103424"
      ]
     },
     "execution_count": 4,
     "metadata": {},
     "output_type": "execute_result"
    }
   ],
   "source": [
    "count"
   ]
  },
  {
   "cell_type": "code",
   "execution_count": 5,
   "metadata": {},
   "outputs": [],
   "source": [
    "\n",
    "train_list = []\n",
    "val_list = []\n",
    "test_list = []"
   ]
  },
  {
   "cell_type": "code",
   "execution_count": 6,
   "metadata": {},
   "outputs": [],
   "source": [
    "\n",
    "for type in output_dirs:\n",
    "    cur = pathes_by_type[type]\n",
    "    if len(cur) is 0:\n",
    "        continue\n",
    "\n",
    "    random.shuffle(cur)\n",
    "\n",
    "    for i in range(int(len(cur)*0.6)):\n",
    "        temp = cur[i].split('/')\n",
    "        train_list.append('{} {}'.format(os.path.join(temp[-2], temp[-1]), output_dirs.index(type)))\n",
    "        cur[i] = None\n",
    "\n",
    "    for i in range(int(len(cur)*0.6), int(len(cur)*0.8)):\n",
    "        if cur[i] is None:\n",
    "            continue\n",
    "        else:\n",
    "            temp = cur[i].split('/')\n",
    "            val_list.append('{} {}'.format(os.path.join(temp[-2], temp[-1]), output_dirs.index(type)))\n",
    "            cur[i] = None\n",
    "\n",
    "    for i in range(int(len(cur) * 0.8), len(cur)):\n",
    "        if cur[i] is None:\n",
    "            continue\n",
    "        else:\n",
    "            temp = cur[i].split('/')\n",
    "            test_list.append('{} {}'.format(os.path.join(temp[-2], temp[-1]), output_dirs.index(type)))\n",
    "            cur[i] = None\n",
    "\n",
    "    with open('MIT-BIH_AD_val.txt', 'w') as val:\n",
    "        for v in val_list:\n",
    "            val.write(v+'\\n')\n",
    "\n",
    "    with open('MIT-BIH_AD_train.txt', 'w') as train:\n",
    "        for r in train_list:\n",
    "            train.write(r+'\\n')\n",
    "\n",
    "    with open('MIT-BIH_AD_test.txt', 'w') as test:\n",
    "        for t in test_list:\n",
    "            test.write(t+'\\n')\n"
   ]
  },
  {
   "cell_type": "code",
   "execution_count": 7,
   "metadata": {},
   "outputs": [
    {
     "name": "stdout",
     "output_type": "stream",
     "text": [
      "train:62052 val:20684 test:20688 tol:103424\n"
     ]
    }
   ],
   "source": [
    "    print('train:{} val:{} test:{} tol:{}'.format(len(train_list), len(val_list), len(test_list), count))"
   ]
  },
  {
   "cell_type": "code",
   "execution_count": null,
   "metadata": {},
   "outputs": [],
   "source": []
  }
 ],
 "metadata": {
  "kernelspec": {
   "display_name": "Python 3",
   "language": "python",
   "name": "python3"
  },
  "language_info": {
   "codemirror_mode": {
    "name": "ipython",
    "version": 3
   },
   "file_extension": ".py",
   "mimetype": "text/x-python",
   "name": "python",
   "nbconvert_exporter": "python",
   "pygments_lexer": "ipython3",
   "version": "3.7.9"
  }
 },
 "nbformat": 4,
 "nbformat_minor": 4
}
